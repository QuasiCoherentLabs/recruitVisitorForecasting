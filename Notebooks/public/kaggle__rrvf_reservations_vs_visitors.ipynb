{
 "cells": [
  {
   "cell_type": "markdown",
   "metadata": {},
   "source": [
    "# Kaggle competition restaurant visitor forecasting competition\n",
    "https://www.kaggle.com/c/recruit-restaurant-visitor-forecasting"
   ]
  },
  {
   "cell_type": "code",
   "execution_count": 1,
   "metadata": {
    "collapsed": false
   },
   "outputs": [
    {
     "data": {
      "text/html": [
       "<style>.container { width:90% !important; }</style>"
      ],
      "text/plain": [
       "<IPython.core.display.HTML object>"
      ]
     },
     "metadata": {},
     "output_type": "display_data"
    }
   ],
   "source": [
    "import numpy as np\n",
    "import pandas as pd\n",
    "\n",
    "import matplotlib.pyplot as plt\n",
    "import seaborn as sns\n",
    "from sklearn.preprocessing import LabelEncoder\n",
    "from sklearn.cluster import KMeans\n",
    "from sklearn.metrics import silhouette_score\n",
    "\n",
    "# format notebook output\n",
    "from IPython.core.interactiveshell import InteractiveShell\n",
    "InteractiveShell.ast_node_interactivity = \"all\"\n",
    "\n",
    "from IPython.core.display import display, HTML, Javascript\n",
    "display(HTML(\"<style>.container { width:90% !important; }</style>\"))\n",
    "\n",
    "# style pandas display\n",
    "pd.set_option('display.max_columns', None)\n",
    "\n",
    "# matplotlib magic\n",
    "%matplotlib inline"
   ]
  },
  {
   "cell_type": "code",
   "execution_count": 2,
   "metadata": {
    "collapsed": true
   },
   "outputs": [],
   "source": [
    "def desc(df):\n",
    "    display(df.head())\n",
    "    print(df.shape)\n",
    "    print(df.dtypes)"
   ]
  },
  {
   "cell_type": "markdown",
   "metadata": {},
   "source": [
    "# Load data"
   ]
  },
  {
   "cell_type": "code",
   "execution_count": 3,
   "metadata": {
    "collapsed": true
   },
   "outputs": [],
   "source": [
    "air_reserve = pd.read_csv('../../data_files/air_reserve.csv')\n",
    "air_store_info = pd.read_csv('../../data_files/air_store_info.csv', encoding='utf-8')\n",
    "air_visit_data = pd.read_csv('../../data_files/air_visit_data.csv')\n",
    "date_info = pd.read_csv('../../data_files/date_info.csv')\n",
    "hpg_reserve = pd.read_csv('../../data_files/hpg_reserve.csv')\n",
    "hpg_store_info = pd.read_csv('../../data_files/hpg_store_info.csv')\n",
    "sample_submission = pd.read_csv('../../data_files/sample_submission.csv')\n",
    "store_id_relation = pd.read_csv('../../data_files/store_id_relation.csv')"
   ]
  },
  {
   "cell_type": "code",
   "execution_count": 4,
   "metadata": {
    "collapsed": false
   },
   "outputs": [
    {
     "data": {
      "text/html": [
       "<div>\n",
       "<table border=\"1\" class=\"dataframe\">\n",
       "  <thead>\n",
       "    <tr style=\"text-align: right;\">\n",
       "      <th></th>\n",
       "      <th>air_store_id</th>\n",
       "      <th>visit_datetime</th>\n",
       "      <th>reserve_datetime</th>\n",
       "      <th>reserve_visitors</th>\n",
       "    </tr>\n",
       "  </thead>\n",
       "  <tbody>\n",
       "    <tr>\n",
       "      <th>0</th>\n",
       "      <td>air_877f79706adbfb06</td>\n",
       "      <td>2016-01-01 19:00:00</td>\n",
       "      <td>2016-01-01 16:00:00</td>\n",
       "      <td>1</td>\n",
       "    </tr>\n",
       "    <tr>\n",
       "      <th>1</th>\n",
       "      <td>air_db4b38ebe7a7ceff</td>\n",
       "      <td>2016-01-01 19:00:00</td>\n",
       "      <td>2016-01-01 19:00:00</td>\n",
       "      <td>3</td>\n",
       "    </tr>\n",
       "    <tr>\n",
       "      <th>2</th>\n",
       "      <td>air_db4b38ebe7a7ceff</td>\n",
       "      <td>2016-01-01 19:00:00</td>\n",
       "      <td>2016-01-01 19:00:00</td>\n",
       "      <td>6</td>\n",
       "    </tr>\n",
       "    <tr>\n",
       "      <th>3</th>\n",
       "      <td>air_877f79706adbfb06</td>\n",
       "      <td>2016-01-01 20:00:00</td>\n",
       "      <td>2016-01-01 16:00:00</td>\n",
       "      <td>2</td>\n",
       "    </tr>\n",
       "    <tr>\n",
       "      <th>4</th>\n",
       "      <td>air_db80363d35f10926</td>\n",
       "      <td>2016-01-01 20:00:00</td>\n",
       "      <td>2016-01-01 01:00:00</td>\n",
       "      <td>5</td>\n",
       "    </tr>\n",
       "  </tbody>\n",
       "</table>\n",
       "</div>"
      ],
      "text/plain": [
       "           air_store_id       visit_datetime     reserve_datetime  \\\n",
       "0  air_877f79706adbfb06  2016-01-01 19:00:00  2016-01-01 16:00:00   \n",
       "1  air_db4b38ebe7a7ceff  2016-01-01 19:00:00  2016-01-01 19:00:00   \n",
       "2  air_db4b38ebe7a7ceff  2016-01-01 19:00:00  2016-01-01 19:00:00   \n",
       "3  air_877f79706adbfb06  2016-01-01 20:00:00  2016-01-01 16:00:00   \n",
       "4  air_db80363d35f10926  2016-01-01 20:00:00  2016-01-01 01:00:00   \n",
       "\n",
       "   reserve_visitors  \n",
       "0                 1  \n",
       "1                 3  \n",
       "2                 6  \n",
       "3                 2  \n",
       "4                 5  "
      ]
     },
     "metadata": {},
     "output_type": "display_data"
    },
    {
     "name": "stdout",
     "output_type": "stream",
     "text": [
      "(92378, 4)\n",
      "air_store_id        object\n",
      "visit_datetime      object\n",
      "reserve_datetime    object\n",
      "reserve_visitors     int64\n",
      "dtype: object\n"
     ]
    }
   ],
   "source": [
    "desc(air_reserve)"
   ]
  },
  {
   "cell_type": "code",
   "execution_count": 5,
   "metadata": {
    "collapsed": false
   },
   "outputs": [
    {
     "data": {
      "text/html": [
       "<div>\n",
       "<table border=\"1\" class=\"dataframe\">\n",
       "  <thead>\n",
       "    <tr style=\"text-align: right;\">\n",
       "      <th></th>\n",
       "      <th>air_store_id</th>\n",
       "      <th>air_genre_name</th>\n",
       "      <th>air_area_name</th>\n",
       "      <th>latitude</th>\n",
       "      <th>longitude</th>\n",
       "    </tr>\n",
       "  </thead>\n",
       "  <tbody>\n",
       "    <tr>\n",
       "      <th>0</th>\n",
       "      <td>air_0f0cdeee6c9bf3d7</td>\n",
       "      <td>Italian/French</td>\n",
       "      <td>Hyōgo-ken Kōbe-shi Kumoidōri</td>\n",
       "      <td>34.695124</td>\n",
       "      <td>135.197852</td>\n",
       "    </tr>\n",
       "    <tr>\n",
       "      <th>1</th>\n",
       "      <td>air_7cc17a324ae5c7dc</td>\n",
       "      <td>Italian/French</td>\n",
       "      <td>Hyōgo-ken Kōbe-shi Kumoidōri</td>\n",
       "      <td>34.695124</td>\n",
       "      <td>135.197852</td>\n",
       "    </tr>\n",
       "    <tr>\n",
       "      <th>2</th>\n",
       "      <td>air_fee8dcf4d619598e</td>\n",
       "      <td>Italian/French</td>\n",
       "      <td>Hyōgo-ken Kōbe-shi Kumoidōri</td>\n",
       "      <td>34.695124</td>\n",
       "      <td>135.197852</td>\n",
       "    </tr>\n",
       "    <tr>\n",
       "      <th>3</th>\n",
       "      <td>air_a17f0778617c76e2</td>\n",
       "      <td>Italian/French</td>\n",
       "      <td>Hyōgo-ken Kōbe-shi Kumoidōri</td>\n",
       "      <td>34.695124</td>\n",
       "      <td>135.197852</td>\n",
       "    </tr>\n",
       "    <tr>\n",
       "      <th>4</th>\n",
       "      <td>air_83db5aff8f50478e</td>\n",
       "      <td>Italian/French</td>\n",
       "      <td>Tōkyō-to Minato-ku Shibakōen</td>\n",
       "      <td>35.658068</td>\n",
       "      <td>139.751599</td>\n",
       "    </tr>\n",
       "  </tbody>\n",
       "</table>\n",
       "</div>"
      ],
      "text/plain": [
       "           air_store_id  air_genre_name                 air_area_name  \\\n",
       "0  air_0f0cdeee6c9bf3d7  Italian/French  Hyōgo-ken Kōbe-shi Kumoidōri   \n",
       "1  air_7cc17a324ae5c7dc  Italian/French  Hyōgo-ken Kōbe-shi Kumoidōri   \n",
       "2  air_fee8dcf4d619598e  Italian/French  Hyōgo-ken Kōbe-shi Kumoidōri   \n",
       "3  air_a17f0778617c76e2  Italian/French  Hyōgo-ken Kōbe-shi Kumoidōri   \n",
       "4  air_83db5aff8f50478e  Italian/French  Tōkyō-to Minato-ku Shibakōen   \n",
       "\n",
       "    latitude   longitude  \n",
       "0  34.695124  135.197852  \n",
       "1  34.695124  135.197852  \n",
       "2  34.695124  135.197852  \n",
       "3  34.695124  135.197852  \n",
       "4  35.658068  139.751599  "
      ]
     },
     "metadata": {},
     "output_type": "display_data"
    },
    {
     "name": "stdout",
     "output_type": "stream",
     "text": [
      "(829, 5)\n",
      "air_store_id       object\n",
      "air_genre_name     object\n",
      "air_area_name      object\n",
      "latitude          float64\n",
      "longitude         float64\n",
      "dtype: object\n"
     ]
    }
   ],
   "source": [
    "desc(air_store_info)"
   ]
  },
  {
   "cell_type": "code",
   "execution_count": 6,
   "metadata": {
    "collapsed": true
   },
   "outputs": [],
   "source": [
    "air_visit_data['visit_date'] = pd.to_datetime(air_visit_data['visit_date'])"
   ]
  },
  {
   "cell_type": "code",
   "execution_count": 7,
   "metadata": {
    "collapsed": false
   },
   "outputs": [
    {
     "data": {
      "text/html": [
       "<div>\n",
       "<table border=\"1\" class=\"dataframe\">\n",
       "  <thead>\n",
       "    <tr style=\"text-align: right;\">\n",
       "      <th></th>\n",
       "      <th>air_store_id</th>\n",
       "      <th>visit_date</th>\n",
       "      <th>visitors</th>\n",
       "    </tr>\n",
       "  </thead>\n",
       "  <tbody>\n",
       "    <tr>\n",
       "      <th>0</th>\n",
       "      <td>air_ba937bf13d40fb24</td>\n",
       "      <td>2016-01-13</td>\n",
       "      <td>25</td>\n",
       "    </tr>\n",
       "    <tr>\n",
       "      <th>1</th>\n",
       "      <td>air_ba937bf13d40fb24</td>\n",
       "      <td>2016-01-14</td>\n",
       "      <td>32</td>\n",
       "    </tr>\n",
       "    <tr>\n",
       "      <th>2</th>\n",
       "      <td>air_ba937bf13d40fb24</td>\n",
       "      <td>2016-01-15</td>\n",
       "      <td>29</td>\n",
       "    </tr>\n",
       "    <tr>\n",
       "      <th>3</th>\n",
       "      <td>air_ba937bf13d40fb24</td>\n",
       "      <td>2016-01-16</td>\n",
       "      <td>22</td>\n",
       "    </tr>\n",
       "    <tr>\n",
       "      <th>4</th>\n",
       "      <td>air_ba937bf13d40fb24</td>\n",
       "      <td>2016-01-18</td>\n",
       "      <td>6</td>\n",
       "    </tr>\n",
       "  </tbody>\n",
       "</table>\n",
       "</div>"
      ],
      "text/plain": [
       "           air_store_id visit_date  visitors\n",
       "0  air_ba937bf13d40fb24 2016-01-13        25\n",
       "1  air_ba937bf13d40fb24 2016-01-14        32\n",
       "2  air_ba937bf13d40fb24 2016-01-15        29\n",
       "3  air_ba937bf13d40fb24 2016-01-16        22\n",
       "4  air_ba937bf13d40fb24 2016-01-18         6"
      ]
     },
     "metadata": {},
     "output_type": "display_data"
    },
    {
     "name": "stdout",
     "output_type": "stream",
     "text": [
      "(252108, 3)\n",
      "air_store_id            object\n",
      "visit_date      datetime64[ns]\n",
      "visitors                 int64\n",
      "dtype: object\n"
     ]
    }
   ],
   "source": [
    "desc(air_visit_data)"
   ]
  },
  {
   "cell_type": "code",
   "execution_count": 8,
   "metadata": {
    "collapsed": false
   },
   "outputs": [
    {
     "data": {
      "text/html": [
       "<div>\n",
       "<table border=\"1\" class=\"dataframe\">\n",
       "  <thead>\n",
       "    <tr style=\"text-align: right;\">\n",
       "      <th></th>\n",
       "      <th>calendar_date</th>\n",
       "      <th>day_of_week</th>\n",
       "      <th>holiday_flg</th>\n",
       "    </tr>\n",
       "  </thead>\n",
       "  <tbody>\n",
       "    <tr>\n",
       "      <th>0</th>\n",
       "      <td>2016-01-01</td>\n",
       "      <td>Friday</td>\n",
       "      <td>1</td>\n",
       "    </tr>\n",
       "    <tr>\n",
       "      <th>1</th>\n",
       "      <td>2016-01-02</td>\n",
       "      <td>Saturday</td>\n",
       "      <td>1</td>\n",
       "    </tr>\n",
       "    <tr>\n",
       "      <th>2</th>\n",
       "      <td>2016-01-03</td>\n",
       "      <td>Sunday</td>\n",
       "      <td>1</td>\n",
       "    </tr>\n",
       "    <tr>\n",
       "      <th>3</th>\n",
       "      <td>2016-01-04</td>\n",
       "      <td>Monday</td>\n",
       "      <td>0</td>\n",
       "    </tr>\n",
       "    <tr>\n",
       "      <th>4</th>\n",
       "      <td>2016-01-05</td>\n",
       "      <td>Tuesday</td>\n",
       "      <td>0</td>\n",
       "    </tr>\n",
       "  </tbody>\n",
       "</table>\n",
       "</div>"
      ],
      "text/plain": [
       "  calendar_date day_of_week  holiday_flg\n",
       "0    2016-01-01      Friday            1\n",
       "1    2016-01-02    Saturday            1\n",
       "2    2016-01-03      Sunday            1\n",
       "3    2016-01-04      Monday            0\n",
       "4    2016-01-05     Tuesday            0"
      ]
     },
     "metadata": {},
     "output_type": "display_data"
    },
    {
     "name": "stdout",
     "output_type": "stream",
     "text": [
      "(517, 3)\n",
      "calendar_date    object\n",
      "day_of_week      object\n",
      "holiday_flg       int64\n",
      "dtype: object\n"
     ]
    }
   ],
   "source": [
    "desc(date_info)"
   ]
  },
  {
   "cell_type": "code",
   "execution_count": 9,
   "metadata": {
    "collapsed": false
   },
   "outputs": [
    {
     "data": {
      "text/html": [
       "<div>\n",
       "<table border=\"1\" class=\"dataframe\">\n",
       "  <thead>\n",
       "    <tr style=\"text-align: right;\">\n",
       "      <th></th>\n",
       "      <th>hpg_store_id</th>\n",
       "      <th>visit_datetime</th>\n",
       "      <th>reserve_datetime</th>\n",
       "      <th>reserve_visitors</th>\n",
       "    </tr>\n",
       "  </thead>\n",
       "  <tbody>\n",
       "    <tr>\n",
       "      <th>0</th>\n",
       "      <td>hpg_c63f6f42e088e50f</td>\n",
       "      <td>2016-01-01 11:00:00</td>\n",
       "      <td>2016-01-01 09:00:00</td>\n",
       "      <td>1</td>\n",
       "    </tr>\n",
       "    <tr>\n",
       "      <th>1</th>\n",
       "      <td>hpg_dac72789163a3f47</td>\n",
       "      <td>2016-01-01 13:00:00</td>\n",
       "      <td>2016-01-01 06:00:00</td>\n",
       "      <td>3</td>\n",
       "    </tr>\n",
       "    <tr>\n",
       "      <th>2</th>\n",
       "      <td>hpg_c8e24dcf51ca1eb5</td>\n",
       "      <td>2016-01-01 16:00:00</td>\n",
       "      <td>2016-01-01 14:00:00</td>\n",
       "      <td>2</td>\n",
       "    </tr>\n",
       "    <tr>\n",
       "      <th>3</th>\n",
       "      <td>hpg_24bb207e5fd49d4a</td>\n",
       "      <td>2016-01-01 17:00:00</td>\n",
       "      <td>2016-01-01 11:00:00</td>\n",
       "      <td>5</td>\n",
       "    </tr>\n",
       "    <tr>\n",
       "      <th>4</th>\n",
       "      <td>hpg_25291c542ebb3bc2</td>\n",
       "      <td>2016-01-01 17:00:00</td>\n",
       "      <td>2016-01-01 03:00:00</td>\n",
       "      <td>13</td>\n",
       "    </tr>\n",
       "  </tbody>\n",
       "</table>\n",
       "</div>"
      ],
      "text/plain": [
       "           hpg_store_id       visit_datetime     reserve_datetime  \\\n",
       "0  hpg_c63f6f42e088e50f  2016-01-01 11:00:00  2016-01-01 09:00:00   \n",
       "1  hpg_dac72789163a3f47  2016-01-01 13:00:00  2016-01-01 06:00:00   \n",
       "2  hpg_c8e24dcf51ca1eb5  2016-01-01 16:00:00  2016-01-01 14:00:00   \n",
       "3  hpg_24bb207e5fd49d4a  2016-01-01 17:00:00  2016-01-01 11:00:00   \n",
       "4  hpg_25291c542ebb3bc2  2016-01-01 17:00:00  2016-01-01 03:00:00   \n",
       "\n",
       "   reserve_visitors  \n",
       "0                 1  \n",
       "1                 3  \n",
       "2                 2  \n",
       "3                 5  \n",
       "4                13  "
      ]
     },
     "metadata": {},
     "output_type": "display_data"
    },
    {
     "name": "stdout",
     "output_type": "stream",
     "text": [
      "(2000320, 4)\n",
      "hpg_store_id        object\n",
      "visit_datetime      object\n",
      "reserve_datetime    object\n",
      "reserve_visitors     int64\n",
      "dtype: object\n"
     ]
    }
   ],
   "source": [
    "desc(hpg_reserve)"
   ]
  },
  {
   "cell_type": "code",
   "execution_count": 10,
   "metadata": {
    "collapsed": false
   },
   "outputs": [
    {
     "data": {
      "text/html": [
       "<div>\n",
       "<table border=\"1\" class=\"dataframe\">\n",
       "  <thead>\n",
       "    <tr style=\"text-align: right;\">\n",
       "      <th></th>\n",
       "      <th>hpg_store_id</th>\n",
       "      <th>hpg_genre_name</th>\n",
       "      <th>hpg_area_name</th>\n",
       "      <th>latitude</th>\n",
       "      <th>longitude</th>\n",
       "    </tr>\n",
       "  </thead>\n",
       "  <tbody>\n",
       "    <tr>\n",
       "      <th>0</th>\n",
       "      <td>hpg_6622b62385aec8bf</td>\n",
       "      <td>Japanese style</td>\n",
       "      <td>Tōkyō-to Setagaya-ku Taishidō</td>\n",
       "      <td>35.643675</td>\n",
       "      <td>139.668221</td>\n",
       "    </tr>\n",
       "    <tr>\n",
       "      <th>1</th>\n",
       "      <td>hpg_e9e068dd49c5fa00</td>\n",
       "      <td>Japanese style</td>\n",
       "      <td>Tōkyō-to Setagaya-ku Taishidō</td>\n",
       "      <td>35.643675</td>\n",
       "      <td>139.668221</td>\n",
       "    </tr>\n",
       "    <tr>\n",
       "      <th>2</th>\n",
       "      <td>hpg_2976f7acb4b3a3bc</td>\n",
       "      <td>Japanese style</td>\n",
       "      <td>Tōkyō-to Setagaya-ku Taishidō</td>\n",
       "      <td>35.643675</td>\n",
       "      <td>139.668221</td>\n",
       "    </tr>\n",
       "    <tr>\n",
       "      <th>3</th>\n",
       "      <td>hpg_e51a522e098f024c</td>\n",
       "      <td>Japanese style</td>\n",
       "      <td>Tōkyō-to Setagaya-ku Taishidō</td>\n",
       "      <td>35.643675</td>\n",
       "      <td>139.668221</td>\n",
       "    </tr>\n",
       "    <tr>\n",
       "      <th>4</th>\n",
       "      <td>hpg_e3d0e1519894f275</td>\n",
       "      <td>Japanese style</td>\n",
       "      <td>Tōkyō-to Setagaya-ku Taishidō</td>\n",
       "      <td>35.643675</td>\n",
       "      <td>139.668221</td>\n",
       "    </tr>\n",
       "  </tbody>\n",
       "</table>\n",
       "</div>"
      ],
      "text/plain": [
       "           hpg_store_id  hpg_genre_name                  hpg_area_name  \\\n",
       "0  hpg_6622b62385aec8bf  Japanese style  Tōkyō-to Setagaya-ku Taishidō   \n",
       "1  hpg_e9e068dd49c5fa00  Japanese style  Tōkyō-to Setagaya-ku Taishidō   \n",
       "2  hpg_2976f7acb4b3a3bc  Japanese style  Tōkyō-to Setagaya-ku Taishidō   \n",
       "3  hpg_e51a522e098f024c  Japanese style  Tōkyō-to Setagaya-ku Taishidō   \n",
       "4  hpg_e3d0e1519894f275  Japanese style  Tōkyō-to Setagaya-ku Taishidō   \n",
       "\n",
       "    latitude   longitude  \n",
       "0  35.643675  139.668221  \n",
       "1  35.643675  139.668221  \n",
       "2  35.643675  139.668221  \n",
       "3  35.643675  139.668221  \n",
       "4  35.643675  139.668221  "
      ]
     },
     "metadata": {},
     "output_type": "display_data"
    },
    {
     "name": "stdout",
     "output_type": "stream",
     "text": [
      "(4690, 5)\n",
      "hpg_store_id       object\n",
      "hpg_genre_name     object\n",
      "hpg_area_name      object\n",
      "latitude          float64\n",
      "longitude         float64\n",
      "dtype: object\n"
     ]
    }
   ],
   "source": [
    "desc(hpg_store_info)"
   ]
  },
  {
   "cell_type": "code",
   "execution_count": 11,
   "metadata": {
    "collapsed": false
   },
   "outputs": [
    {
     "data": {
      "text/html": [
       "<div>\n",
       "<table border=\"1\" class=\"dataframe\">\n",
       "  <thead>\n",
       "    <tr style=\"text-align: right;\">\n",
       "      <th></th>\n",
       "      <th>id</th>\n",
       "      <th>visitors</th>\n",
       "    </tr>\n",
       "  </thead>\n",
       "  <tbody>\n",
       "    <tr>\n",
       "      <th>0</th>\n",
       "      <td>air_00a91d42b08b08d9_2017-04-23</td>\n",
       "      <td>0</td>\n",
       "    </tr>\n",
       "    <tr>\n",
       "      <th>1</th>\n",
       "      <td>air_00a91d42b08b08d9_2017-04-24</td>\n",
       "      <td>0</td>\n",
       "    </tr>\n",
       "    <tr>\n",
       "      <th>2</th>\n",
       "      <td>air_00a91d42b08b08d9_2017-04-25</td>\n",
       "      <td>0</td>\n",
       "    </tr>\n",
       "    <tr>\n",
       "      <th>3</th>\n",
       "      <td>air_00a91d42b08b08d9_2017-04-26</td>\n",
       "      <td>0</td>\n",
       "    </tr>\n",
       "    <tr>\n",
       "      <th>4</th>\n",
       "      <td>air_00a91d42b08b08d9_2017-04-27</td>\n",
       "      <td>0</td>\n",
       "    </tr>\n",
       "  </tbody>\n",
       "</table>\n",
       "</div>"
      ],
      "text/plain": [
       "                                id  visitors\n",
       "0  air_00a91d42b08b08d9_2017-04-23         0\n",
       "1  air_00a91d42b08b08d9_2017-04-24         0\n",
       "2  air_00a91d42b08b08d9_2017-04-25         0\n",
       "3  air_00a91d42b08b08d9_2017-04-26         0\n",
       "4  air_00a91d42b08b08d9_2017-04-27         0"
      ]
     },
     "metadata": {},
     "output_type": "display_data"
    },
    {
     "name": "stdout",
     "output_type": "stream",
     "text": [
      "(32019, 2)\n",
      "id          object\n",
      "visitors     int64\n",
      "dtype: object\n"
     ]
    }
   ],
   "source": [
    "desc(sample_submission)"
   ]
  },
  {
   "cell_type": "code",
   "execution_count": 12,
   "metadata": {
    "collapsed": false
   },
   "outputs": [
    {
     "data": {
      "text/html": [
       "<div>\n",
       "<table border=\"1\" class=\"dataframe\">\n",
       "  <thead>\n",
       "    <tr style=\"text-align: right;\">\n",
       "      <th></th>\n",
       "      <th>air_store_id</th>\n",
       "      <th>hpg_store_id</th>\n",
       "    </tr>\n",
       "  </thead>\n",
       "  <tbody>\n",
       "    <tr>\n",
       "      <th>0</th>\n",
       "      <td>air_63b13c56b7201bd9</td>\n",
       "      <td>hpg_4bc649e72e2a239a</td>\n",
       "    </tr>\n",
       "    <tr>\n",
       "      <th>1</th>\n",
       "      <td>air_a24bf50c3e90d583</td>\n",
       "      <td>hpg_c34b496d0305a809</td>\n",
       "    </tr>\n",
       "    <tr>\n",
       "      <th>2</th>\n",
       "      <td>air_c7f78b4f3cba33ff</td>\n",
       "      <td>hpg_cd8ae0d9bbd58ff9</td>\n",
       "    </tr>\n",
       "    <tr>\n",
       "      <th>3</th>\n",
       "      <td>air_947eb2cae4f3e8f2</td>\n",
       "      <td>hpg_de24ea49dc25d6b8</td>\n",
       "    </tr>\n",
       "    <tr>\n",
       "      <th>4</th>\n",
       "      <td>air_965b2e0cf4119003</td>\n",
       "      <td>hpg_653238a84804d8e7</td>\n",
       "    </tr>\n",
       "  </tbody>\n",
       "</table>\n",
       "</div>"
      ],
      "text/plain": [
       "           air_store_id          hpg_store_id\n",
       "0  air_63b13c56b7201bd9  hpg_4bc649e72e2a239a\n",
       "1  air_a24bf50c3e90d583  hpg_c34b496d0305a809\n",
       "2  air_c7f78b4f3cba33ff  hpg_cd8ae0d9bbd58ff9\n",
       "3  air_947eb2cae4f3e8f2  hpg_de24ea49dc25d6b8\n",
       "4  air_965b2e0cf4119003  hpg_653238a84804d8e7"
      ]
     },
     "metadata": {},
     "output_type": "display_data"
    },
    {
     "name": "stdout",
     "output_type": "stream",
     "text": [
      "(150, 2)\n",
      "air_store_id    object\n",
      "hpg_store_id    object\n",
      "dtype: object\n"
     ]
    }
   ],
   "source": [
    "desc(store_id_relation)"
   ]
  },
  {
   "cell_type": "markdown",
   "metadata": {
    "collapsed": true
   },
   "source": [
    "# Reservations vs. Visitors\n",
    "\n",
    "Let's assume that `R`(reservations) is a subset of `V`(visitors), and call `V-R=WI` walk-ins. We want to know `WI/V` or, the percentage of visitors which are walk in, and how the distribution of reservations changes, by number of days beforehand. We call this timeseries `CWIP` or `cumulative walk-in percentage` and think of it in negative days(but normalize from day of first reservation to reverse the axis)."
   ]
  },
  {
   "cell_type": "code",
   "execution_count": 47,
   "metadata": {
    "collapsed": false
   },
   "outputs": [],
   "source": [
    "import itertools as it\n",
    "from collections import Counter"
   ]
  },
  {
   "cell_type": "code",
   "execution_count": 89,
   "metadata": {
    "collapsed": true
   },
   "outputs": [],
   "source": [
    "def generate_freqs_of_days_before(input_df):\n",
    "    all_days_ahead = []\n",
    "    for visit_dt in input_df.visit_datetime.unique():\n",
    "        all_days_ahead += [(pd.to_datetime(visit_dt)-pd.to_datetime(dt)).days for dt in input_df.loc[input_df['visit_datetime']==visit_dt]['reserve_datetime']]\n",
    "    return dict(Counter(sorted(all_days_ahead, reverse=True)))"
   ]
  },
  {
   "cell_type": "code",
   "execution_count": 74,
   "metadata": {
    "collapsed": false,
    "scrolled": false
   },
   "outputs": [],
   "source": [
    "def generate_cdf_of_days_before(input_df):\n",
    "    all_days_ahead = []\n",
    "    for visit_dt in input_df.visit_datetime.unique():\n",
    "        all_days_ahead += [(pd.to_datetime(visit_dt)-pd.to_datetime(dt)).days for dt in input_df.loc[input_df['visit_datetime']==visit_dt]['reserve_datetime']]\n",
    "    val_freqs = dict(Counter(sorted(all_days_ahead, reverse=True)))\n",
    "    cdf,current_total,total_days = [],0,sum(val_freqs.values())\n",
    "    for i in range(max(val_freqs.keys())+1)[::-1]:\n",
    "        current_total = current_total if i not in val_freqs.keys() else current_total + val_freqs[i]\n",
    "        cdf.append((i,current_total/float(total_days)))\n",
    "    return cdf"
   ]
  },
  {
   "cell_type": "code",
   "execution_count": 103,
   "metadata": {
    "collapsed": true
   },
   "outputs": [],
   "source": [
    "def generate_cdf_from_freqs(val_freqs):\n",
    "    cdf, current_total, total_days = [], 0, sum(val_freqs.values())\n",
    "    for i in range(max(val_freqs.keys())+1)[::-1]:\n",
    "        current_total = current_total if i not in val_freqs.keys() else current_total + val_freqs[i]\n",
    "        cdf.append((i,current_total/float(total_days)))\n",
    "    return cdf"
   ]
  },
  {
   "cell_type": "code",
   "execution_count": 158,
   "metadata": {
    "collapsed": false
   },
   "outputs": [],
   "source": [
    "def draw_cdf_histo(cdf_pairs_list):\n",
    "    days_out, probabilities = [], []\n",
    "\n",
    "    for i in range(len(cdf_pairs_list)):\n",
    "      days_out.append(cdf_pairs_list[i][0])\n",
    "      probabilities.append(cdf_pairs_list[i][1])\n",
    "\n",
    "    plt.figure(figsize=(16,4))\n",
    "    plt.bar(days_out, probabilities, color='r', alpha=0.75)\n",
    "    plt.show()"
   ]
  },
  {
   "cell_type": "markdown",
   "metadata": {},
   "source": [
    "Here are ten arbitrary store's cdfs. If we join some metadata to this table, we could instead run through things clustered by that. "
   ]
  },
  {
   "cell_type": "code",
   "execution_count": 159,
   "metadata": {
    "collapsed": false,
    "scrolled": true
   },
   "outputs": [
    {
     "data": {
      "image/png": "[encoded data removed]",
      "text/plain": [
       "<matplotlib.figure.Figure at 0x11180ae10>"
      ]
     },
     "metadata": {},
     "output_type": "display_data"
    },
    {
     "data": {
      "image/png": "[encoded data removed]",
      "text/plain": [
       "<matplotlib.figure.Figure at 0x1115b5510>"
      ]
     },
     "metadata": {},
     "output_type": "display_data"
    },
    {
     "data": {
      "image/png": "[encoded data removed]",
      "text/plain": [
       "<matplotlib.figure.Figure at 0x1115b5b90>"
      ]
     },
     "metadata": {},
     "output_type": "display_data"
    },
    {
     "data": {
      "image/png": "[encoded data removed]",
      "text/plain": [
       "<matplotlib.figure.Figure at 0x11162ba90>"
      ]
     },
     "metadata": {},
     "output_type": "display_data"
    },
    {
     "data": {
      "image/png": "[encoded data removed]",
      "text/plain": [
       "<matplotlib.figure.Figure at 0x1124fca10>"
      ]
     },
     "metadata": {},
     "output_type": "display_data"
    },
    {
     "data": {
      "image/png": "[encoded data removed]",
      "text/plain": [
       "<matplotlib.figure.Figure at 0x10f31dd50>"
      ]
     },
     "metadata": {},
     "output_type": "display_data"
    },
    {
     "data": {
      "image/png": "[encoded data removed]",
      "text/plain": [
       "<matplotlib.figure.Figure at 0x10f78d4d0>"
      ]
     },
     "metadata": {},
     "output_type": "display_data"
    },
    {
     "data": {
      "image/png": "[encoded data removed]",
      "text/plain": [
       "<matplotlib.figure.Figure at 0x1115a7150>"
      ]
     },
     "metadata": {},
     "output_type": "display_data"
    },
    {
     "data": {
      "image/png": "[encoded data removed]",
      "text/plain": [
       "<matplotlib.figure.Figure at 0x10f7fdc10>"
      ]
     },
     "metadata": {},
     "output_type": "display_data"
    },
    {
     "data": {
      "image/png": "[encoded data removed]",
      "text/plain": [
       "<matplotlib.figure.Figure at 0x1117bb550>"
      ]
     },
     "metadata": {},
     "output_type": "display_data"
    }
   ],
   "source": [
    "count = 0\n",
    "for loc in air_reserve.air_store_id.unique():\n",
    "    if count<10:\n",
    "        draw_cdf_histo(generate_cdf_of_days_before(air_reserve.loc[air_reserve['air_store_id']==loc]))\n",
    "    count+=1"
   ]
  },
  {
   "cell_type": "markdown",
   "metadata": {},
   "source": [
    "Here I build the overall cdf, and then drop vals such that the cumulative prob `<1%`, to make the images more meaningful."
   ]
  },
  {
   "cell_type": "code",
   "execution_count": 163,
   "metadata": {
    "collapsed": false
   },
   "outputs": [
    {
     "data": {
      "text/plain": [
       "'This takes a while; if patient, change the conditional to True'"
      ]
     },
     "execution_count": 163,
     "metadata": {},
     "output_type": "execute_result"
    },
    {
     "name": "stdout",
     "output_type": "stream",
     "text": [
      "[(110, 0.010024031695858322), (109, 0.010099807313429604), (108, 0.010164757842776418), (107, 0.010240533460347702), (106, 0.010294658901470046), (105, 0.010327134166143455), (104, 0.010392084695490269), (103, 0.010402909783714737), (102, 0.01047868540128602), (101, 0.010511160665959427), (100, 0.010565286107081772), (99, 0.010630236636428586), (98, 0.010727662430448807), (97, 0.01081426313624456), (96, 0.010879213665591374), (95, 0.010976639459611595), (94, 0.01105241507718288), (93, 0.0111498408712031), (92, 0.011247266665223321), (91, 0.011290567018121197), (90, 0.011398817900365888), (89, 0.01147459351793717), (88, 0.011539544047283985), (87, 0.011626144753079737), (86, 0.011680270194202083), (85, 0.011766870899997835), (84, 0.011885946870466995), (83, 0.012015847929160623), (82, 0.012069973370282967), (81, 0.012134923899629783), (80, 0.012178224252527658), (79, 0.012362250752343632), (78, 0.012513801987486198), (77, 0.012600402693281951), (76, 0.012697828487302172), (75, 0.012773604104873455), (74, 0.0128277295459958), (73, 0.012914330251791553), (72, 0.013065881486934118), (71, 0.01316330728095434), (70, 0.013325683604321376), (69, 0.013466409751239472), (68, 0.013585485721708632), (67, 0.01371538678040226), (66, 0.013910238368442704), (65, 0.014105089956483146), (64, 0.014321591720972526), (63, 0.01449479313256403), (62, 0.014689644720604474), (61, 0.015014397367338544), (60, 0.01516594860248111), (59, 0.015555651778561995), (58, 0.015804628807724784), (57, 0.015977830219316286), (56, 0.01629175777782589), (55, 0.016638160601008898), (54, 0.016908787806620623), (53, 0.017211890276905756), (52, 0.017677369070557926), (51, 0.018132022775985624), (50, 0.018673277187209077), (49, 0.019247006863105934), (48, 0.019766611097880447), (47, 0.020145489185736862), (46, 0.02063261815583797), (45, 0.021227998008183768), (44, 0.021845028036978503), (43, 0.02265690965381368), (42, 0.0236636428586893), (41, 0.024518824828422353), (40, 0.02553638312152244), (39, 0.026597241767520406), (38, 0.02789625235445669), (37, 0.029119487323821688), (36, 0.030602524410573945), (35, 0.032280413085366645), (34, 0.03400160211305722), (33, 0.035398038494013725), (32, 0.037292428933295804), (31, 0.03943579640174068), (30, 0.04207711792851112), (29, 0.04496741648444435), (28, 0.04833401892225422), (27, 0.05160319556604386), (26, 0.05502392344497608), (25, 0.05913745697027431), (24, 0.06287211240771612), (23, 0.06813310528480807), (22, 0.07381627660265432), (21, 0.07985667583190803), (20, 0.08594037541405962), (19, 0.09189417393751759), (18, 0.09888718093052458), (17, 0.10776375327458919), (16, 0.11780943514689644), (15, 0.128277295459958), (14, 0.14021736777154734), (13, 0.1534456255818485), (12, 0.16562384983437614), (11, 0.1809521747602243), (10, 0.19865119400723116), (9, 0.21948948883933403), (8, 0.2438351122561649), (7, 0.2739613327848622), (6, 0.306360821840698), (5, 0.3422568143930373), (4, 0.3867587520838295), (3, 0.44579878326008354), (2, 0.5218017276840806), (1, 0.6400441663599559), (0, 1.0)]\n"
     ]
    },
    {
     "data": {
      "image/png": "[encoded data removed]",
      "text/plain": [
       "<matplotlib.figure.Figure at 0x11180a3d0>"
      ]
     },
     "metadata": {},
     "output_type": "display_data"
    }
   ],
   "source": [
    "'''This takes a while; if patient, change the conditional to True'''\n",
    "if False:\n",
    "    total_freqs = {}\n",
    "    for loc in air_reserve.air_store_id.unique():\n",
    "        locs_freqs = generate_freqs_of_days_before(air_reserve.loc[air_reserve['air_store_id']==loc])\n",
    "        for i in locs_freqs:\n",
    "            total_freqs[i] = (locs_freqs[i] if i not in total_freqs else (total_freqs[i]+locs_freqs[i]))\n",
    "sig_cdf_pairs = [p for p in generate_cdf_from_freqs(total_freqs) if p[1]>0.01]\n",
    "print sig_cdf_pairs\n",
    "draw_cdf_histo(sig_cdf_pairs)"
   ]
  },
  {
   "cell_type": "markdown",
   "metadata": {},
   "source": [
    "### For HPG"
   ]
  },
  {
   "cell_type": "code",
   "execution_count": 164,
   "metadata": {
    "collapsed": false
   },
   "outputs": [
    {
     "data": {
      "text/plain": [
       "'This takes a lonnnnng time; if super patient, change the conditional to True'"
      ]
     },
     "execution_count": 164,
     "metadata": {},
     "output_type": "execute_result"
    },
    {
     "name": "stdout",
     "output_type": "stream",
     "text": [
      "[(49, 0.010445317616240995), (48, 0.010991049989085353), (47, 0.01138397729753329), (46, 0.011886051080550098), (45, 0.012497271338135779), (44, 0.013130320890635233), (43, 0.013959834097358655), (42, 0.014985810958306046), (41, 0.015858982754857018), (40, 0.016895874263261296), (39, 0.017976424361493125), (38, 0.019297096703776467), (37, 0.02055228116131849), (36, 0.022058502510368914), (35, 0.023761187513643308), (34, 0.02550753110674525), (33, 0.02692643527614058), (32, 0.028847413228552717), (31, 0.031019428072473258), (30, 0.03369351669941061), (29, 0.036618642217856365), (28, 0.04002401222440515), (27, 0.04333115040384196), (26, 0.04679109364767518), (25, 0.05094957432874918), (24, 0.05472604234883213), (23, 0.06005239030779306), (22, 0.0657934948701157), (21, 0.0718947827985156), (20, 0.07803972931674306), (19, 0.08405370006548789), (18, 0.09111547697009387), (17, 0.10007640253219821), (16, 0.11021611001964636), (15, 0.12078148875791311), (14, 0.13284217419777342), (13, 0.14621261733246016), (12, 0.15850251036891508), (11, 0.17397948046278106), (10, 0.1918467583497053), (9, 0.21286836935166994), (8, 0.23742632612966602), (7, 0.2678127046496398), (6, 0.3005129884304737), (5, 0.33671687404496836), (4, 0.38159790438768826), (3, 0.44114822091246453), (2, 0.5178127046496398), (1, 0.6370552281161318), (0, 1.0)]\n"
     ]
    },
    {
     "data": {
      "image/png": "[encoded data removed]",
      "text/plain": [
       "<matplotlib.figure.Figure at 0x1117bb590>"
      ]
     },
     "metadata": {},
     "output_type": "display_data"
    }
   ],
   "source": [
    "'''This takes a lonnnnng time; if super patient, change the conditional to True'''\n",
    "if False:\n",
    "    total_hpg_freqs,count = {},0\n",
    "    for loc in hpg_reserve.hpg_store_id.unique():\n",
    "        locs_freqs = generate_freqs_of_days_before(hpg_reserve.loc[hpg_reserve['hpg_store_id']==loc])\n",
    "        for i in locs_freqs:\n",
    "            total_hpg_freqs[i] = (locs_freqs[i] if i not in total_freqs else (total_freqs[i]+locs_freqs[i]))\n",
    "sig_hpg_cdf_pairs = [p for p in generate_cdf_from_freqs(total_hpg_freqs) if p[1]>0.01]\n",
    "print sig_hpg_cdf_pairs\n",
    "draw_cdf_histo(sig_hpg_cdf_pairs)"
   ]
  },
  {
   "cell_type": "markdown",
   "metadata": {},
   "source": [
    "## Combined CDF and corresponding plot"
   ]
  },
  {
   "cell_type": "code",
   "execution_count": 165,
   "metadata": {
    "collapsed": false
   },
   "outputs": [
    {
     "name": "stdout",
     "output_type": "stream",
     "text": [
      "[(63, 0.010016413221882847), (62, 0.010217502364156132), (61, 0.0105490277068229), (60, 0.010706638115631691), (59, 0.0111033815584952), (58, 0.011358819117599105), (57, 0.011538168893140143), (56, 0.011858824552440788), (55, 0.012212089261839802), (54, 0.012489266187675954), (53, 0.012799052163610474), (52, 0.013271883390036848), (51, 0.013733844933097098), (50, 0.014282763943086339), (49, 0.014864292003173948), (48, 0.015396906488114), (47, 0.015782780247611386), (46, 0.01627735084077001), (45, 0.016880618267589863), (44, 0.01750562506114197), (43, 0.018326286155284296), (42, 0.01934260155001685), (41, 0.02020674137762367), (40, 0.021233926455722345), (39, 0.022304590267285512), (38, 0.023614387112903402), (37, 0.024853531016641485), (36, 0.026348112479483474), (35, 0.028038348242915685), (34, 0.02977206273981239), (33, 0.03117968673572539), (32, 0.03308731616648007), (31, 0.03524494831465559), (30, 0.0379025858976728), (29, 0.04081022619811085), (28, 0.04419613256665833), (27, 0.047484211784910704), (26, 0.05092446657028881), (25, 0.055060381091098815), (24, 0.058815856694094504), (23, 0.06410939249339667), (22, 0.06982141110229459), (21, 0.0758921292622746), (20, 0.08200632615571908), (19, 0.08799008684877009), (18, 0.09501733714496896), (17, 0.10393591234687334), (16, 0.11402841335231904), (15, 0.12454483200904358), (14, 0.13654496244524397), (13, 0.14984402004369612), (12, 0.16207784867226818), (11, 0.17748019000206525), (10, 0.19526299198904337), (9, 0.21619256731051426), (8, 0.24064392004260915), (7, 0.27089968369221407), (6, 0.303448950532071), (5, 0.33949825541581974), (4, 0.3841889585756367), (3, 0.44348308133784065), (2, 0.5198154327764433), (1, 0.6385558538679769), (0, 1.0)]\n"
     ]
    },
    {
     "data": {
      "image/png": "[encoded data removed]",
      "text/plain": [
       "<matplotlib.figure.Figure at 0x1117d6690>"
      ]
     },
     "metadata": {},
     "output_type": "display_data"
    }
   ],
   "source": [
    "overall_sig_cdf_pairs = [p for p in generate_cdf_from_freqs(dict(Counter(total_hpg_freqs) + Counter(total_freqs))) if p[1]>0.01]\n",
    "print overall_sig_cdf_pairs\n",
    "draw_cdf_histo(overall_sig_cdf_pairs)"
   ]
  },
  {
   "cell_type": "markdown",
   "metadata": {},
   "source": [
    "Here's the result in a df:"
   ]
  },
  {
   "cell_type": "code",
   "execution_count": 166,
   "metadata": {
    "collapsed": false
   },
   "outputs": [],
   "source": [
    "overall_reservations_percentages_df = pd.DataFrame(generate_cdf_from_freqs(dict(Counter(total_hpg_freqs) + Counter(total_freqs))))"
   ]
  },
  {
   "cell_type": "code",
   "execution_count": null,
   "metadata": {
    "collapsed": true
   },
   "outputs": [],
   "source": []
  }
 ],
 "metadata": {
  "kernelspec": {
   "display_name": "Python 2",
   "language": "python",
   "name": "python2"
  },
  "language_info": {
   "codemirror_mode": {
    "name": "ipython",
    "version": 2
   },
   "file_extension": ".py",
   "mimetype": "text/x-python",
   "name": "python",
   "nbconvert_exporter": "python",
   "pygments_lexer": "ipython2",
   "version": "2.7.10"
  }
 },
 "nbformat": 4,
 "nbformat_minor": 2
}
