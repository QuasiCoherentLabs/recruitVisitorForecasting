{
 "cells": [
  {
   "cell_type": "code",
   "execution_count": 1,
   "metadata": {},
   "outputs": [
    {
     "name": "stderr",
     "output_type": "stream",
     "text": [
      "/Users/lee/kaggleVenv/lib/python3.6/site-packages/statsmodels/compat/pandas.py:56: FutureWarning: The pandas.core.datetools module is deprecated and will be removed in a future version. Please use the pandas.tseries module instead.\n",
      "  from pandas.core import datetools\n"
     ]
    },
    {
     "data": {
      "text/html": [
       "<style>.container { width:90% !important; }</style>"
      ],
      "text/plain": [
       "<IPython.core.display.HTML object>"
      ]
     },
     "metadata": {},
     "output_type": "display_data"
    }
   ],
   "source": [
    "import numpy as np\n",
    "import pandas as pd\n",
    "import os\n",
    "\n",
    "import matplotlib.pyplot as plt\n",
    "import seaborn as sns\n",
    "from dateutil.relativedelta import relativedelta\n",
    "import datetime\n",
    "import statsmodels.api as sm\n",
    "from scipy.optimize import brute\n",
    "from itertools import product\n",
    "\n",
    "\n",
    "\n",
    "# format notebook output\n",
    "from IPython.core.interactiveshell import InteractiveShell\n",
    "InteractiveShell.ast_node_interactivity = \"all\"\n",
    "\n",
    "from IPython.core.display import display, HTML, Javascript\n",
    "display(HTML(\"<style>.container { width:90% !important; }</style>\"))\n",
    "\n",
    "# style pandas display\n",
    "pd.set_option('display.max_columns', None)\n",
    "\n",
    "# matplotlib magic\n",
    "%matplotlib inline"
   ]
  },
  {
   "cell_type": "code",
   "execution_count": 2,
   "metadata": {},
   "outputs": [],
   "source": [
    "air_reserve = pd.read_csv('../../data_files/air_reserve.csv')\n",
    "air_store_info = pd.read_csv('../../data_files/air_store_info.csv', encoding='utf-8')\n",
    "air_visit_data = pd.read_csv('../../data_files/air_visit_data.csv')\n",
    "date_info = pd.read_csv('../../data_files/date_info.csv')\n",
    "hpg_reserve = pd.read_csv('../../data_files/hpg_reserve.csv')\n",
    "hpg_store_info = pd.read_csv('../../data_files/hpg_store_info.csv')\n",
    "sample_submission = pd.read_csv('../../data_files/sample_submission.csv')\n",
    "store_id_relation = pd.read_csv('../../data_files/store_id_relation.csv')\n",
    "competition_id_list = []\n",
    "with open('./competition_id_list.txt') as fp: \n",
    "  for line in fp.readlines():\n",
    "    competition_id_list.append(line)\n",
    "competition_id_list = [x.strip() for x in competition_id_list]"
   ]
  },
  {
   "cell_type": "code",
   "execution_count": 3,
   "metadata": {
    "collapsed": true
   },
   "outputs": [],
   "source": [
    "def fill_missing_dates(df, date_column, id_column, value_column, fill_value, begin_date=None, end_date=None):\n",
    "    \"\"\"\n",
    "    helper function to fill in dates that are missing from the data set\n",
    "    in order to have a contiguous segment of dates for each location id\n",
    "    \"\"\"\n",
    "    \n",
    "    if begin_date:\n",
    "        min_date = begin_date\n",
    "    else:\n",
    "        min_date = df[date_column].min()\n",
    "        \n",
    "    if end_date:\n",
    "        max_date = end_date\n",
    "    else:\n",
    "        max_date = df[date_column].max()\n",
    "        \n",
    "    df.index = pd.DatetimeIndex(df['visit_date'])\n",
    "    date_df = pd.DataFrame(index=pd.date_range(df.index[0], df.index[-1]))\n",
    "    date_df['empty'] = np.nan\n",
    "    join = date_df.join(df,how='outer')[[id_column,value_column]]\n",
    "    join[id_column]=[join[id_column].values[0]]*len(join)\n",
    "    \n",
    "    return join\n",
    "\n",
    "def grab_air_visit_data_by_id(store_id):\n",
    "  store_visits = air_visit_data[air_visit_data['air_store_id']==store_id]\n",
    "  return fill_missing_dates(store_visits,'visit_date','air_store_id','visitors','NA')"
   ]
  },
  {
   "cell_type": "code",
   "execution_count": 7,
   "metadata": {},
   "outputs": [
    {
     "data": {
      "text/plain": [
       "\"m = []\\nres = build_model((1,0,0), test[data_col], m)\\nprint('AIC: %s' % res.aic)\\nbegin = len(test)-1\\nend = (datetime.datetime(2017,5,30).date()-test.index[-1].date()).days+len(test)\\n#res.predict(start=begin, end=end, dynamic=True)\""
      ]
     },
     "execution_count": 7,
     "metadata": {},
     "output_type": "execute_result"
    }
   ],
   "source": [
    "data_col = 'visitors'\n",
    "\n",
    "def build_model(iter_param, series, params_list, static_param=None):\n",
    "  if static_param==None:\n",
    "    ords = iter_param\n",
    "    sords = (1,0,0,7)\n",
    "  else:\n",
    "    ords = static_param\n",
    "    sords = iter_param\n",
    "  try:\n",
    "    mod = sm.tsa.statespace.SARIMAX(\n",
    "        series, trend='n', order=ords, seasonal_order=sords\n",
    "      )\n",
    "    res = mod.fit(disp=0)\n",
    "    params_list.append(tuple((ords, sords, res.aic)))\n",
    "  except:\n",
    "    pass\n",
    "\n",
    "'''m = []\n",
    "res = build_model((1,0,0), test[data_col], m)\n",
    "print('AIC: %s' % res.aic)\n",
    "begin = len(test)-1\n",
    "end = (datetime.datetime(2017,5,30).date()-test.index[-1].date()).days+len(test)\n",
    "#res.predict(start=begin, end=end, dynamic=True)'''"
   ]
  },
  {
   "cell_type": "code",
   "execution_count": 5,
   "metadata": {
    "collapsed": true
   },
   "outputs": [],
   "source": [
    "def parameter_search2(series, num_models, grid_diameter=3):\n",
    "  models = []\n",
    "  param_vals = range(grid_diameter)\n",
    "  grid = list(product(param_vals,param_vals,param_vals))\n",
    "  for ord_param in grid:\n",
    "    for sord_param in [(p[0],p[1],p[2],7) for p in grid]:\n",
    "      build_model(sord_param, series, models, ord_param)\n",
    "  return sorted(models, key=lambda x: x[2])[:num_models]"
   ]
  },
  {
   "cell_type": "code",
   "execution_count": 6,
   "metadata": {
    "collapsed": true
   },
   "outputs": [],
   "source": [
    "def parameter_search(series, num_models, grid_diameter=3):\n",
    "  ord_models = []\n",
    "  sord_models = []\n",
    "  grid = (slice(0, grid_diameter, 1), slice(0, grid_diameter, 1), slice(0, grid_diameter, 1))\n",
    "  brute(build_model, grid, args=(series, ord_models), finish=None)\n",
    "  for model in sorted(ord_models, key=lambda x: x[2])[:num_models]:\n",
    "    grid = (slice(0, grid_diameter, 1), slice(0, grid_diameter, 1), slice(0, grid_diameter, 1), slice(7,8,1))\n",
    "    brute(build_model, grid, args=(series, sord_models, model[0]), finish=None)\n",
    "  return sord_models"
   ]
  },
  {
   "cell_type": "code",
   "execution_count": 8,
   "metadata": {},
   "outputs": [],
   "source": [
    "test = grab_air_visit_data_by_id(competition_id_list[0])\n",
    "mod = sm.tsa.statespace.SARIMAX(\n",
    "    test['visitors'], trend='n', order=(1,0,0), seasonal_order=(1,0,0,7)\n",
    "  )\n",
    "res = mod.fit(disp=0)"
   ]
  },
  {
   "cell_type": "code",
   "execution_count": 10,
   "metadata": {},
   "outputs": [],
   "source": [
    "#res.predict()"
   ]
  },
  {
   "cell_type": "markdown",
   "metadata": {},
   "source": [
    "# Model optimization with `parameter_search2`"
   ]
  },
  {
   "cell_type": "code",
   "execution_count": null,
   "metadata": {},
   "outputs": [],
   "source": [
    "mods = parameter_search2(test['visitors'], 5)"
   ]
  },
  {
   "cell_type": "code",
   "execution_count": null,
   "metadata": {},
   "outputs": [],
   "source": [
    "mods"
   ]
  },
  {
   "cell_type": "code",
   "execution_count": null,
   "metadata": {
    "collapsed": true
   },
   "outputs": [],
   "source": [
    "mod = sm.tsa.statespace.SARIMAX(test['visitors'], trend='n', order=(0, 1, 2), seasonal_order=(0,1,2,7))\n",
    "best_model = mod.fit(disp=0)"
   ]
  },
  {
   "cell_type": "markdown",
   "metadata": {},
   "source": [
    "# Build best model from optimization and compare to true"
   ]
  },
  {
   "cell_type": "code",
   "execution_count": null,
   "metadata": {},
   "outputs": [],
   "source": [
    "preds = best_model.predict()\n",
    "test = test.assign(predictions=preds.values)\n",
    "test[['predictions','visitors']].plot(figsize=(20,10))"
   ]
  },
  {
   "cell_type": "code",
   "execution_count": null,
   "metadata": {
    "collapsed": true
   },
   "outputs": [],
   "source": []
  }
 ],
 "metadata": {
  "kernelspec": {
   "display_name": "kaggleVenv",
   "language": "python",
   "name": "kagglevenv"
  },
  "language_info": {
   "codemirror_mode": {
    "name": "ipython",
    "version": 3
   },
   "file_extension": ".py",
   "mimetype": "text/x-python",
   "name": "python",
   "nbconvert_exporter": "python",
   "pygments_lexer": "ipython3",
   "version": "3.6.3"
  }
 },
 "nbformat": 4,
 "nbformat_minor": 2
}
