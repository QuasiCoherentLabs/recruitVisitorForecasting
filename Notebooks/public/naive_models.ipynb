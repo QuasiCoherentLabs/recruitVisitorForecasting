{
 "cells": [
  {
   "cell_type": "code",
   "execution_count": 1,
   "metadata": {},
   "outputs": [
    {
     "name": "stderr",
     "output_type": "stream",
     "text": [
      "/Users/lee/kaggleVenv/lib/python3.6/site-packages/statsmodels/compat/pandas.py:56: FutureWarning: The pandas.core.datetools module is deprecated and will be removed in a future version. Please use the pandas.tseries module instead.\n",
      "  from pandas.core import datetools\n"
     ]
    },
    {
     "data": {
      "text/html": [
       "<style>.container { width:90% !important; }</style>"
      ],
      "text/plain": [
       "<IPython.core.display.HTML object>"
      ]
     },
     "metadata": {},
     "output_type": "display_data"
    }
   ],
   "source": [
    "import numpy as np\n",
    "import pandas as pd\n",
    "\n",
    "import matplotlib.pyplot as plt\n",
    "import seaborn as sns\n",
    "from dateutil.relativedelta import relativedelta\n",
    "import datetime\n",
    "import statsmodels.api as sm\n",
    "from scipy.optimize import brute\n",
    "\n",
    "\n",
    "\n",
    "# format notebook output\n",
    "from IPython.core.interactiveshell import InteractiveShell\n",
    "InteractiveShell.ast_node_interactivity = \"all\"\n",
    "\n",
    "from IPython.core.display import display, HTML, Javascript\n",
    "display(HTML(\"<style>.container { width:90% !important; }</style>\"))\n",
    "\n",
    "# style pandas display\n",
    "pd.set_option('display.max_columns', None)\n",
    "\n",
    "# matplotlib magic\n",
    "%matplotlib inline"
   ]
  },
  {
   "cell_type": "code",
   "execution_count": 2,
   "metadata": {
    "collapsed": true
   },
   "outputs": [],
   "source": [
    "air_reserve = pd.read_csv('../../data_files/air_reserve.csv')\n",
    "air_store_info = pd.read_csv('../../data_files/air_store_info.csv', encoding='utf-8')\n",
    "air_visit_data = pd.read_csv('../../data_files/air_visit_data.csv')\n",
    "date_info = pd.read_csv('../../data_files/date_info.csv')\n",
    "hpg_reserve = pd.read_csv('../../data_files/hpg_reserve.csv')\n",
    "hpg_store_info = pd.read_csv('../../data_files/hpg_store_info.csv')\n",
    "sample_submission = pd.read_csv('../../data_files/sample_submission.csv')\n",
    "store_id_relation = pd.read_csv('../../data_files/store_id_relation.csv')"
   ]
  },
  {
   "cell_type": "code",
   "execution_count": 3,
   "metadata": {},
   "outputs": [
    {
     "data": {
      "text/html": [
       "<div>\n",
       "<style scoped>\n",
       "    .dataframe tbody tr th:only-of-type {\n",
       "        vertical-align: middle;\n",
       "    }\n",
       "\n",
       "    .dataframe tbody tr th {\n",
       "        vertical-align: top;\n",
       "    }\n",
       "\n",
       "    .dataframe thead th {\n",
       "        text-align: right;\n",
       "    }\n",
       "</style>\n",
       "<table border=\"1\" class=\"dataframe\">\n",
       "  <thead>\n",
       "    <tr style=\"text-align: right;\">\n",
       "      <th></th>\n",
       "      <th>air_store_id</th>\n",
       "      <th>visit_date</th>\n",
       "      <th>visitors</th>\n",
       "    </tr>\n",
       "    <tr>\n",
       "      <th>visit_date</th>\n",
       "      <th></th>\n",
       "      <th></th>\n",
       "      <th></th>\n",
       "    </tr>\n",
       "  </thead>\n",
       "  <tbody>\n",
       "    <tr>\n",
       "      <th>2016-07-01</th>\n",
       "      <td>air_0f0cdeee6c9bf3d7</td>\n",
       "      <td>2016-07-01</td>\n",
       "      <td>18</td>\n",
       "    </tr>\n",
       "    <tr>\n",
       "      <th>2016-07-02</th>\n",
       "      <td>air_0f0cdeee6c9bf3d7</td>\n",
       "      <td>2016-07-02</td>\n",
       "      <td>37</td>\n",
       "    </tr>\n",
       "    <tr>\n",
       "      <th>2016-07-03</th>\n",
       "      <td>air_0f0cdeee6c9bf3d7</td>\n",
       "      <td>2016-07-03</td>\n",
       "      <td>20</td>\n",
       "    </tr>\n",
       "    <tr>\n",
       "      <th>2016-07-04</th>\n",
       "      <td>air_0f0cdeee6c9bf3d7</td>\n",
       "      <td>2016-07-04</td>\n",
       "      <td>16</td>\n",
       "    </tr>\n",
       "    <tr>\n",
       "      <th>2016-07-05</th>\n",
       "      <td>air_0f0cdeee6c9bf3d7</td>\n",
       "      <td>2016-07-05</td>\n",
       "      <td>15</td>\n",
       "    </tr>\n",
       "  </tbody>\n",
       "</table>\n",
       "</div>"
      ],
      "text/plain": [
       "                    air_store_id  visit_date  visitors\n",
       "visit_date                                            \n",
       "2016-07-01  air_0f0cdeee6c9bf3d7  2016-07-01        18\n",
       "2016-07-02  air_0f0cdeee6c9bf3d7  2016-07-02        37\n",
       "2016-07-03  air_0f0cdeee6c9bf3d7  2016-07-03        20\n",
       "2016-07-04  air_0f0cdeee6c9bf3d7  2016-07-04        16\n",
       "2016-07-05  air_0f0cdeee6c9bf3d7  2016-07-05        15"
      ]
     },
     "metadata": {},
     "output_type": "display_data"
    }
   ],
   "source": [
    "air_stores = list(air_store_info['air_store_id'])\n",
    "test = air_visit_data[air_visit_data['air_store_id']==air_stores[0]]\n",
    "test.index = pd.DatetimeIndex(test['visit_date'])\n",
    "display(test.head())"
   ]
  },
  {
   "cell_type": "code",
   "execution_count": 23,
   "metadata": {},
   "outputs": [
    {
     "data": {
      "text/plain": [
       "\"m = []\\nres = build_model((1,0,0), test[data_col], m)\\nprint('AIC: %s' % res.aic)\\nbegin = len(test)-1\\nend = (datetime.datetime(2017,5,30).date()-test.index[-1].date()).days+len(test)\\n#res.predict(start=begin, end=end, dynamic=True)\""
      ]
     },
     "execution_count": 23,
     "metadata": {},
     "output_type": "execute_result"
    }
   ],
   "source": [
    "data_col = 'visitors'\n",
    "\n",
    "def build_model(iter_param, series, params_list, static_param=None):\n",
    "  if static_param==None:\n",
    "    ords = iter_param\n",
    "    sords = (1,0,0,0)\n",
    "  else:\n",
    "    ords = static_param\n",
    "    sords = iter_param\n",
    "  try:\n",
    "    mod = sm.tsa.statespace.SARIMAX(\n",
    "        series, trend='n', order=ords, seasonal_order=sords\n",
    "      )\n",
    "    res = mod.fit(disp=0)\n",
    "    params_list.append(tuple((ords, sords, res.aic)))\n",
    "  except:\n",
    "    pass\n",
    "\n",
    "'''m = []\n",
    "res = build_model((1,0,0), test[data_col], m)\n",
    "print('AIC: %s' % res.aic)\n",
    "begin = len(test)-1\n",
    "end = (datetime.datetime(2017,5,30).date()-test.index[-1].date()).days+len(test)\n",
    "#res.predict(start=begin, end=end, dynamic=True)'''"
   ]
  },
  {
   "cell_type": "code",
   "execution_count": 21,
   "metadata": {
    "collapsed": true
   },
   "outputs": [],
   "source": [
    "def parameter_search2(series, num_models, grid_diameter=3):\n",
    "  models = []\n",
    "  param_vals = range(grid_diameter)\n",
    "  for ord_param in list(product(param_vals,param_vals,param_vals)):\n",
    "    for sord_param in list(product(param_vals,param_vals,param_vals,param_vals)):\n",
    "      build_model(sord_param, series, models, ord_param)\n",
    "  return sorted(models, key=lambda x: x[2])[:num_models]"
   ]
  },
  {
   "cell_type": "code",
   "execution_count": 16,
   "metadata": {
    "collapsed": true
   },
   "outputs": [],
   "source": [
    "def parameter_search(series, num_models, grid_diameter=3):\n",
    "  ord_models = []\n",
    "  sord_models = []\n",
    "  grid = (slice(0, grid_diameter, 1), slice(0, grid_diameter, 1), slice(0, grid_diameter, 1))\n",
    "  brute(build_model, grid, args=(series, ord_models), finish=None)\n",
    "  for model in sorted(ord_models, key=lambda x: x[2])[:num_models]:\n",
    "    grid = (slice(0, grid_diameter, 1), slice(0, grid_diameter, 1), slice(0, grid_diameter, 1), slice(7,8,1))\n",
    "    brute(build_model, grid, args=(series, sord_models, model[0]), finish=None)\n",
    "  return sord_models"
   ]
  },
  {
   "cell_type": "code",
   "execution_count": null,
   "metadata": {
    "scrolled": false
   },
   "outputs": [],
   "source": [
    "mods = parameter_search2(test['visitors'], 5)"
   ]
  },
  {
   "cell_type": "code",
   "execution_count": 24,
   "metadata": {},
   "outputs": [
    {
     "data": {
      "text/plain": [
       "[((0, 0, 1), (2, 1, 2, 2), 2132.4585647911099),\n",
       " ((0, 0, 0), (2, 1, 2, 2), 2132.6585989226774),\n",
       " ((0, 0, 1), (0, 1, 1, 2), 2135.7014635751048),\n",
       " ((0, 0, 0), (2, 1, 1, 2), 2135.7374456644493),\n",
       " ((0, 0, 1), (2, 1, 0, 1), 2137.1573214801319)]"
      ]
     },
     "execution_count": 24,
     "metadata": {},
     "output_type": "execute_result"
    }
   ],
   "source": [
    "mods"
   ]
  },
  {
   "cell_type": "code",
   "execution_count": null,
   "metadata": {
    "collapsed": true
   },
   "outputs": [],
   "source": []
  }
 ],
 "metadata": {
  "kernelspec": {
   "display_name": "kaggleVenv",
   "language": "python",
   "name": "kagglevenv"
  },
  "language_info": {
   "codemirror_mode": {
    "name": "ipython",
    "version": 3
   },
   "file_extension": ".py",
   "mimetype": "text/x-python",
   "name": "python",
   "nbconvert_exporter": "python",
   "pygments_lexer": "ipython3",
   "version": "3.6.3"
  }
 },
 "nbformat": 4,
 "nbformat_minor": 2
}
